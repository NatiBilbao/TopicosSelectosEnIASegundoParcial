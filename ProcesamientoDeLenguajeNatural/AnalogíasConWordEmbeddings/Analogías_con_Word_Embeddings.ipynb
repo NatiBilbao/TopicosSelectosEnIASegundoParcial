{
  "cells": [
    {
      "cell_type": "markdown",
      "source": [
        "Bilbao Cano Natalia\n",
        "\n",
        "Código: 40987\n",
        "\n",
        "Segundo Parcial - Tópicos Selectos en Inteligencia Artificial\n",
        "\n",
        "Procesamiento de Lenguaje Natural\n",
        "\n",
        "Analogías con Word Embeddings"
      ],
      "metadata": {
        "id": "MO-8XkqpCBgT"
      },
      "id": "MO-8XkqpCBgT"
    },
    {
      "cell_type": "markdown",
      "source": [
        "**Link del sitio web de donde se descargo el dataset ya entrenado no se incluye en el repositorio, ya que, pesa 2.67GB**"
      ],
      "metadata": {
        "id": "zGAb8bt7CTU6"
      },
      "id": "zGAb8bt7CTU6"
    },
    {
      "cell_type": "code",
      "execution_count": null,
      "id": "299c0589",
      "metadata": {
        "id": "299c0589"
      },
      "outputs": [],
      "source": [
        "#  https://www.kaggle.com/datasets/rtatman/pretrained-word-vectors-for-spanish"
      ]
    },
    {
      "cell_type": "code",
      "execution_count": null,
      "id": "d10fcb28",
      "metadata": {
        "id": "d10fcb28"
      },
      "outputs": [],
      "source": [
        "!pip install gensim -q"
      ]
    },
    {
      "cell_type": "code",
      "execution_count": null,
      "id": "00176b64",
      "metadata": {
        "id": "00176b64"
      },
      "outputs": [],
      "source": [
        "import gensim"
      ]
    },
    {
      "cell_type": "code",
      "execution_count": null,
      "id": "aa28ff20",
      "metadata": {
        "id": "aa28ff20"
      },
      "outputs": [],
      "source": [
        "vectores = gensim.models.KeyedVectors.load_word2vec_format('SBW-vectors-300-min5.txt')"
      ]
    },
    {
      "cell_type": "markdown",
      "source": [
        "Creamos una funcion llamada \"analogias\" donde le entrgamos un vector1, un vector2 y un vector 3 que en realidad son palabras."
      ],
      "metadata": {
        "id": "J38tBVqSXxpf"
      },
      "id": "J38tBVqSXxpf"
    },
    {
      "cell_type": "code",
      "execution_count": null,
      "id": "0c3ee200",
      "metadata": {
        "id": "0c3ee200"
      },
      "outputs": [],
      "source": [
        "def analogias(v1, v2, v3):\n",
        "    similitud = vectores.most_similar(positive=[v1, v3], negative=[v2])\n",
        "    print(f\"{v1} es a {v2} como {similitud[0][0]} es a {v3}\")"
      ]
    },
    {
      "cell_type": "code",
      "execution_count": null,
      "id": "55326fab",
      "metadata": {
        "id": "55326fab",
        "outputId": "0ef71e01-a1d9-4f80-e986-ee7b6443f01a"
      },
      "outputs": [
        {
          "name": "stdout",
          "output_type": "stream",
          "text": [
            "rey es a hombre como reina es a mujer\n"
          ]
        }
      ],
      "source": [
        "analogias('rey', 'hombre', 'mujer')"
      ]
    },
    {
      "cell_type": "code",
      "execution_count": null,
      "id": "b7a6ee66",
      "metadata": {
        "id": "b7a6ee66",
        "outputId": "9880dbe4-42fd-4608-a74e-3850d1f307b7"
      },
      "outputs": [
        {
          "name": "stdout",
          "output_type": "stream",
          "text": [
            "alemania es a alemán como España es a español\n"
          ]
        }
      ],
      "source": [
        "analogias('alemania', 'alemán', 'español')"
      ]
    },
    {
      "cell_type": "code",
      "execution_count": null,
      "id": "248bdc3d",
      "metadata": {
        "id": "248bdc3d",
        "outputId": "44519b93-1deb-485d-d94c-5c255de81ef5"
      },
      "outputs": [
        {
          "name": "stdout",
          "output_type": "stream",
          "text": [
            "pan es a trigo como yogur es a leche\n"
          ]
        }
      ],
      "source": [
        "analogias('pan', 'trigo', 'leche')"
      ]
    },
    {
      "cell_type": "code",
      "execution_count": null,
      "id": "12ed6e24",
      "metadata": {
        "id": "12ed6e24",
        "outputId": "62f6e963-dd3f-40bd-f6a0-bf8cc76e0c77"
      },
      "outputs": [
        {
          "name": "stdout",
          "output_type": "stream",
          "text": [
            "vaca es a leche como gallina es a huevo\n"
          ]
        }
      ],
      "source": [
        "analogias('vaca', 'leche', 'huevo')"
      ]
    },
    {
      "cell_type": "code",
      "execution_count": null,
      "id": "484d5623",
      "metadata": {
        "id": "484d5623",
        "outputId": "b44e652f-14c7-48e5-dd18-6289b8ab1a78"
      },
      "outputs": [
        {
          "name": "stdout",
          "output_type": "stream",
          "text": [
            "chimenea es a humo como desagüe es a agua\n"
          ]
        }
      ],
      "source": [
        "analogias('chimenea', 'humo', 'agua')"
      ]
    },
    {
      "cell_type": "code",
      "execution_count": null,
      "id": "0c598061",
      "metadata": {
        "id": "0c598061",
        "outputId": "4fddd3bf-bbdc-45c5-c566-79c2238f0b70"
      },
      "outputs": [
        {
          "name": "stdout",
          "output_type": "stream",
          "text": [
            "carnívoro es a carne como sinápsido es a herbívoro\n"
          ]
        }
      ],
      "source": [
        "analogias('carnívoro', 'carne', 'herbívoro')"
      ]
    },
    {
      "cell_type": "code",
      "execution_count": null,
      "id": "df737f8a",
      "metadata": {
        "id": "df737f8a",
        "outputId": "14f9da7c-f4ea-4537-8b5f-76e006778b11"
      },
      "outputs": [
        {
          "name": "stdout",
          "output_type": "stream",
          "text": [
            "Chile es a Argentina como nipón es a Japón\n"
          ]
        }
      ],
      "source": [
        "analogias('Chile', 'Argentina', 'Japón')"
      ]
    },
    {
      "cell_type": "code",
      "execution_count": null,
      "id": "1fc329ed",
      "metadata": {
        "id": "1fc329ed",
        "outputId": "2e1796d7-0565-45f6-8ced-aaa0387e84f4"
      },
      "outputs": [
        {
          "name": "stdout",
          "output_type": "stream",
          "text": [
            "Madrid es a España como Milán es a Italia\n"
          ]
        }
      ],
      "source": [
        "analogias('Madrid', 'España', 'Italia')"
      ]
    },
    {
      "cell_type": "markdown",
      "source": [
        "Creamos una funcion llamada \"Cercanos\" para que dada un palabra muestre sus vecinos más cercanos de esa palabra."
      ],
      "metadata": {
        "id": "Zc20VxOcY0kl"
      },
      "id": "Zc20VxOcY0kl"
    },
    {
      "cell_type": "code",
      "execution_count": null,
      "id": "3d6e77b6",
      "metadata": {
        "id": "3d6e77b6"
      },
      "outputs": [],
      "source": [
        "def cercanos(v):\n",
        "    vecinos = vectores.most_similar(positive=[v])\n",
        "    print(f\"vecinos de: {v}\")\n",
        "    for word, score in vecinos:\n",
        "        print(\"\\t%s\" % word)"
      ]
    },
    {
      "cell_type": "code",
      "execution_count": null,
      "id": "52f4de3f",
      "metadata": {
        "id": "52f4de3f",
        "outputId": "196db763-590f-4b61-b177-64de83024fdf"
      },
      "outputs": [
        {
          "name": "stdout",
          "output_type": "stream",
          "text": [
            "vecinos de: rey\n",
            "\tmonarca\n",
            "\treyes\n",
            "\treino\n",
            "\tpríncipe\n",
            "\treina\n",
            "\tHarthacnut\n",
            "\tRagnald\n",
            "\tSverkersson\n",
            "\tregente\n",
            "\tHardeknut\n"
          ]
        }
      ],
      "source": [
        "cercanos('rey')"
      ]
    },
    {
      "cell_type": "code",
      "execution_count": null,
      "id": "b47eec18",
      "metadata": {
        "id": "b47eec18",
        "outputId": "788d15b5-834d-4e86-eafa-661d1cd9cdb0"
      },
      "outputs": [
        {
          "name": "stdout",
          "output_type": "stream",
          "text": [
            "vecinos de: Chile\n",
            "\tchileno\n",
            "\tPerú\n",
            "\tArgentina\n",
            "\tchilena\n",
            "\tValparaíso\n",
            "\tCoquimbo\n",
            "\tBolivia\n",
            "\tEcuador\n",
            "\tAntofagasta\n",
            "\tchilenos\n"
          ]
        }
      ],
      "source": [
        "cercanos('Chile')"
      ]
    },
    {
      "cell_type": "code",
      "execution_count": null,
      "id": "79fefcfc",
      "metadata": {
        "id": "79fefcfc",
        "outputId": "3c9f4082-254b-47cb-c04d-8cf200c3e992"
      },
      "outputs": [
        {
          "name": "stdout",
          "output_type": "stream",
          "text": [
            "vecinos de: chile\n",
            "\ttomate\n",
            "\tjalapeño\n",
            "\tchiles\n",
            "\tají\n",
            "\tjitomate\n",
            "\tpiquín\n",
            "\tcilantro\n",
            "\taguacate\n",
            "\tcebolla\n",
            "\tfrijol\n"
          ]
        }
      ],
      "source": [
        "cercanos('chile')"
      ]
    },
    {
      "cell_type": "code",
      "execution_count": null,
      "id": "df1ba14f",
      "metadata": {
        "id": "df1ba14f",
        "outputId": "2de300ca-5448-4d5e-e106-43353ac9f22d"
      },
      "outputs": [
        {
          "name": "stdout",
          "output_type": "stream",
          "text": [
            "vecinos de: vaca\n",
            "\toveja\n",
            "\tcabra\n",
            "\tleche\n",
            "\tternera\n",
            "\tcarne\n",
            "\tvacas\n",
            "\ttarine\n",
            "\tcerdo\n",
            "\tmontbéliarde\n",
            "\tcordero\n"
          ]
        }
      ],
      "source": [
        "cercanos('vaca')"
      ]
    },
    {
      "cell_type": "code",
      "execution_count": null,
      "id": "02a627e6",
      "metadata": {
        "id": "02a627e6",
        "outputId": "8da7e663-361b-430f-fd56-935f2842182d"
      },
      "outputs": [
        {
          "name": "stdout",
          "output_type": "stream",
          "text": [
            "vecinos de: carnívoro\n",
            "\therbívoro\n",
            "\tmamífero\n",
            "\treptil\n",
            "\tinsectívoro\n",
            "\tcarnívoros\n",
            "\tomnívoro\n",
            "\tsemiacuático\n",
            "\tpiscívoro\n",
            "\tmarsupial\n",
            "\tmustélido\n"
          ]
        }
      ],
      "source": [
        "cercanos('carnívoro')"
      ]
    },
    {
      "cell_type": "code",
      "execution_count": null,
      "id": "12cfa30c",
      "metadata": {
        "id": "12cfa30c",
        "outputId": "1c68d118-0ba8-4feb-f165-6be6247af530"
      },
      "outputs": [
        {
          "name": "stdout",
          "output_type": "stream",
          "text": [
            "vecinos de: vegetariano\n",
            "\tvegetariana\n",
            "\tvegano\n",
            "\tvegetarianismo\n",
            "\tvegetarianos\n",
            "\tvegana\n",
            "\tabstemio\n",
            "\tveganismo\n",
            "\tcrudiveganismo\n",
            "\tveganos\n",
            "\tcrudivorismo\n"
          ]
        }
      ],
      "source": [
        "cercanos('vegetariano')"
      ]
    }
  ],
  "metadata": {
    "kernelspec": {
      "display_name": "Python 3 (ipykernel)",
      "language": "python",
      "name": "python3"
    },
    "language_info": {
      "codemirror_mode": {
        "name": "ipython",
        "version": 3
      },
      "file_extension": ".py",
      "mimetype": "text/x-python",
      "name": "python",
      "nbconvert_exporter": "python",
      "pygments_lexer": "ipython3",
      "version": "3.11.4"
    },
    "colab": {
      "provenance": []
    }
  },
  "nbformat": 4,
  "nbformat_minor": 5
}